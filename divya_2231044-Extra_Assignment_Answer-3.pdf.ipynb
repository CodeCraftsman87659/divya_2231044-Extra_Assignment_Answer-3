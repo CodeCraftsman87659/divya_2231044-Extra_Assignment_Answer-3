{
 "cells": [
  {
   "cell_type": "code",
   "execution_count": 1,
   "id": "589e1d73-8ad0-4144-9ffd-93af3ab92551",
   "metadata": {},
   "outputs": [
    {
     "name": "stdin",
     "output_type": "stream",
     "text": [
      "Enter any number : 10\n"
     ]
    },
    {
     "name": "stdout",
     "output_type": "stream",
     "text": [
      "value: 10\n",
      "Correct\n"
     ]
    }
   ],
   "source": [
    "c1=int(input(\"Enter any number :\"))\n",
    "if 10==c1:\n",
    "    print(f\"value: {c1}\\nCorrect\")"
   ]
  },
  {
   "cell_type": "code",
   "execution_count": 8,
   "id": "a02f6300-a7e8-4a03-bbdc-4d69c4936b65",
   "metadata": {},
   "outputs": [
    {
     "name": "stdin",
     "output_type": "stream",
     "text": [
      "Enter the password:  HOPE@123\n"
     ]
    },
    {
     "name": "stdout",
     "output_type": "stream",
     "text": [
      "Your password is correct\n"
     ]
    }
   ],
   "source": [
    "p1=input(\"Enter the password: \")\n",
    "if \"HOPE@123\"==p1:\n",
    "    print(\"Your password is correct\")\n",
    "else:\n",
    "    print(\"Nope\")"
   ]
  },
  {
   "cell_type": "code",
   "execution_count": 12,
   "id": "a470c1d1-e238-4cfe-8854-bd7c434662bb",
   "metadata": {},
   "outputs": [
    {
     "name": "stdin",
     "output_type": "stream",
     "text": [
      "Enter your age please:  20\n"
     ]
    },
    {
     "name": "stdout",
     "output_type": "stream",
     "text": [
      "age: 20\n",
      "Adult\n"
     ]
    }
   ],
   "source": [
    "age = int(input(\"Enter your age please: \"))\n",
    "\n",
    "if age <= 12:\n",
    "    print(f\"age: {age}\\nChildren\")\n",
    "elif age <= 30:\n",
    "    print(f\"age: {age}\\nAdult\")\n",
    "elif age <= 59:\n",
    "    print(f\"age: {age}\\nCitizen\")\n",
    "else:\n",
    "    print(f\"age: {age}\\nSenior Citizen\")\n"
   ]
  },
  {
   "cell_type": "code",
   "execution_count": 18,
   "id": "e1af6a9d-b407-471b-ba07-8841a2331321",
   "metadata": {},
   "outputs": [
    {
     "name": "stdin",
     "output_type": "stream",
     "text": [
      "Enter any number : 2\n"
     ]
    },
    {
     "name": "stdout",
     "output_type": "stream",
     "text": [
      "2\n",
      "No is positive\n"
     ]
    }
   ],
   "source": [
    "p=int(input(\"Enter any number :\"))\n",
    "if p > 0:\n",
    "    print(f\"{p}\\nNo is positive\")\n",
    "else:\n",
    "    print(\"Negative\")"
   ]
  },
  {
   "cell_type": "code",
   "execution_count": 20,
   "id": "fd96e4ce-e72e-451b-9d15-7f948eef500d",
   "metadata": {},
   "outputs": [
    {
     "name": "stdin",
     "output_type": "stream",
     "text": [
      "Enter a number to check : 22\n"
     ]
    },
    {
     "name": "stdout",
     "output_type": "stream",
     "text": [
      "No is not divisible by 5\n"
     ]
    }
   ],
   "source": [
    "p=int(input(\"Enter a number to check :\"))\n",
    "if p % 5==0:\n",
    "    print(f\"{p}\\nYes it's divisibe by 5\")\n",
    "else:\n",
    "    print(\"No is not divisible by 5\")"
   ]
  },
  {
   "cell_type": "code",
   "execution_count": null,
   "id": "780b3461-b99a-4713-babe-97fcf0c6891a",
   "metadata": {},
   "outputs": [],
   "source": []
  }
 ],
 "metadata": {
  "kernelspec": {
   "display_name": "Python [conda env:base] *",
   "language": "python",
   "name": "conda-base-py"
  },
  "language_info": {
   "codemirror_mode": {
    "name": "ipython",
    "version": 3
   },
   "file_extension": ".py",
   "mimetype": "text/x-python",
   "name": "python",
   "nbconvert_exporter": "python",
   "pygments_lexer": "ipython3",
   "version": "3.13.5"
  }
 },
 "nbformat": 4,
 "nbformat_minor": 5
}
